{
 "cells": [
  {
   "cell_type": "markdown",
   "metadata": {},
   "source": [
    " ###  Лабораторная работа №5.\n",
    "###  Численное решение системы линейных уравнений, численное интегрирование.\n",
    "\n",
    "### Вычисление интеграла с помощью рекурентной формулы Буля.\n",
    "\n",
    "$B(N)=\\frac{16S(N)-T(N-1)}{15}$,$N$=1,2,...Для  $2^N$ подинтервалов области $[\\alpha;\\beta]$.Где $S(N)$-последовательность формул Симпсона, а $T(N)$-последовательность формул трапеций.\n",
    "\n",
    "Формулы площади трапеции:\n",
    "\n",
    "$T(0)=\\frac{h(f(\\alpha)+f(\\beta))}{2}$, где $h=\\beta-\\alpha$\n",
    "\n",
    "$T(N)=\\frac{T(N-1)}{2}+h\\sum_{k=1}^M f(x_{2k-1})$, $N=1,2....$, где $h=\\frac{\\beta-\\alpha}{2^N}$*\n",
    "\n",
    "*Точки $x_k= \\alpha +kh $ делят отрезок $[\\alpha;\\beta]$ на $2^n=2M$ частей*\n",
    "\n",
    "\n",
    "### Решение системы линейных уравнений методом Гаусса-Зейделя.\n",
    "Решаем систему линейных уравнений вида $Ax=F$.\n",
    "$H_k$=$(D+L)^{-1}$.\n",
    "$T_k$=$-(D+L)^{-1}$$R$, где $L$-нижняя треугольная матрица с нулевыми диагональными элементами,$D$-диагональная матрица,$R$-верхняя треугольная матрица с нулевыми диагональными элементами.  \n",
    "\n",
    "$x ^ {(k+1)}$=$T_k$*$x^k$+$H_k$ * $b$.\n",
    "\n",
    "Важным обстоятельством данного метода является то, что для вычисления каждой координаты очередного вектора $x ^ {(k+1)}$ используется(уже вычисленные) все предыдущие его координаты.\n",
    "\n",
    "Реутов А. 431."
   ]
  },
  {
   "cell_type": "code",
   "execution_count": 13,
   "metadata": {
    "collapsed": false,
    "scrolled": true
   },
   "outputs": [
    {
     "name": "stdout",
     "output_type": "stream",
     "text": [
      "-0.0913704672522\n"
     ]
    }
   ],
   "source": [
    "import numpy as np\n",
    "import math\n",
    "T=np.zeros(25)\n",
    "s=np.zeros(25)\n",
    "b=np.zeros(7)\n",
    "e=0.001;\n",
    "def f(x,i):    \n",
    " return ((math.sin(x+5))/(1+i+i*(x**2)))\n",
    "\n",
    "def r(N,i):    \n",
    "  h=5/(2**N)\n",
    "  M=(2**(N-1));q=0;\n",
    "  for k in range(1,M+1):\n",
    "   x1=((2*k)-1)*h\n",
    "   q+=f(x1,i)   \n",
    "  return(q*h)         \n",
    "\n",
    "def B(i):    #Интегрирование по рекур. формуле Буля.\n",
    "  t0=(5/2)*(f(0,i)+f(5,i))\n",
    "  T[0]=t0\n",
    "  T[1]=T[0]/2+r(1,i)\n",
    "  T[2]=T[1]/2+r(2,i)\n",
    "  s[1]=(4*T[1]-T[0])/3\n",
    "  b[1]=(16*s[1]-T[0])/15 \n",
    "  b[2]=(16*s[2]-T[1])/15\n",
    "  x=b[1];y=b[2];j=3;\n",
    "  while (math.fabs((x-y)/x))>e:\n",
    "    T[j]=(T[j-1]/2 +r(j,i))\n",
    "    s[j]=(4*T[j]-T[j-1])/3\n",
    "    b[j]=(16*s[j]-T[j-1])/15 \n",
    "    x=b[j-1]\n",
    "    y=b[j]\n",
    "    N=j\n",
    "    j=j+1\n",
    "  return b[N]\n",
    "print(B(2))"
   ]
  },
  {
   "cell_type": "code",
   "execution_count": 2,
   "metadata": {
    "collapsed": false
   },
   "outputs": [
    {
     "data": {
      "image/png": "[encoded data removed]",
      "text/plain": [
       "<matplotlib.figure.Figure at 0xf62b98d908>"
      ]
     },
     "metadata": {},
     "output_type": "display_data"
    }
   ],
   "source": [
    "% matplotlib inline              \n",
    "import matplotlib.pyplot as plt      #Зависимость значения интеграла от номера итерации.\n",
    "import numpy as np\n",
    "plt.plot(b,'g--') \n",
    "plt.grid(True)\n",
    "plt.show()"
   ]
  },
  {
   "cell_type": "code",
   "execution_count": 3,
   "metadata": {
    "collapsed": false
   },
   "outputs": [
    {
     "data": {
      "image/png": "[encoded data removed]",
      "text/plain": [
       "<matplotlib.figure.Figure at 0xf62dc17828>"
      ]
     },
     "metadata": {},
     "output_type": "display_data"
    }
   ],
   "source": [
    "import matplotlib.pyplot as plt    #график подынтегральной функции.\n",
    "F=[];x=[];i=2;F1=[];F2=[];\n",
    "x2=[];x21=[];x22=[];\n",
    "for x1 in range(0,500):  \n",
    " x=x1/100; x2.append(x)\n",
    " F.append(f(x,i))\n",
    "\n",
    "for x11 in range(0,50):  \n",
    " x=x11/10; x21.append(x)\n",
    " F1.append(f(x,i))\n",
    "\n",
    "for x12 in range(0,5000):  \n",
    " x=x12/1000; x22.append(x)\n",
    " F2.append(f(x,i))    \n",
    "\n",
    "plt.xlabel(\"X\")\n",
    "plt.ylabel(\"Y\")\n",
    "plt.plot(x2,F,'g')\n",
    "plt.grid(True)\n",
    "plt.show()\n",
    "\n"
   ]
  },
  {
   "cell_type": "code",
   "execution_count": 4,
   "metadata": {
    "collapsed": false
   },
   "outputs": [
    {
     "name": "stdout",
     "output_type": "stream",
     "text": [
      "-0.0912838894925\n",
      "-0.090512253675\n",
      "-0.0913747947622\n"
     ]
    }
   ],
   "source": [
    "import numpy as np  #Вычисление интеграла с помощью встроенной функции.\n",
    "print(np.trapz(F,x2))\n",
    "print(np.trapz(F1,x21))\n",
    "print(np.trapz(F2,x22))"
   ]
  },
  {
   "cell_type": "code",
   "execution_count": 7,
   "metadata": {
    "collapsed": false
   },
   "outputs": [
    {
     "data": {
      "image/png": "[encoded data removed]",
      "text/plain": [
       "<matplotlib.figure.Figure at 0xf62e4610f0>"
      ]
     },
     "metadata": {},
     "output_type": "display_data"
    }
   ],
   "source": [
    "import matplotlib.pyplot as plt      #Сравнение различных методов вычисления интегралов. \n",
    "import numpy as np \n",
    "plt.plot(B(2),'ro') \n",
    "\n",
    "plt.plot(np.trapz(F,x2),'b*')\n",
    "plt.plot(np.trapz(F1,x21),'g*')\n",
    "plt.plot(np.trapz(F2,x22),'c*')\n",
    "\n",
    "plt.grid(True)\n",
    "plt.show()\n"
   ]
  },
  {
   "cell_type": "code",
   "execution_count": 14,
   "metadata": {
    "collapsed": false,
    "scrolled": true
   },
   "outputs": [],
   "source": [
    "import numpy as np     #Заполнение матрицы.\n",
    "import math\n",
    "n=10000\n",
    "y=np.zeros((n,n))\n",
    "x=np.zeros(n)\n",
    "f1=np.zeros(n)\n",
    "y[0][0]=1;x[0]=10;y[n-1][n-1]=1;x[n-1]=1;f1[0]=1;f1[n-1]=1;\n",
    "for i in range(1,n-1):          \n",
    " y[i][i-1]=1 \n",
    " y[i][i]=(10+(math.cos(i))/i)\n",
    " f1[i]=(math.cos(i)/i)+10\n",
    " y[i][i+1]=1\n",
    " x[i]=-10+B(i)\n",
    "x[n-1]=1; y[n-1][n-1]=1\n",
    "np.set_printoptions(precision=4,suppress=True,linewidth=250)\n",
    "#print(y)\n",
    "np.set_printoptions(precision=4,suppress=True,linewidth=1)\n",
    "#print(x)\n",
    "#print(f1) "
   ]
  },
  {
   "cell_type": "code",
   "execution_count": 18,
   "metadata": {
    "collapsed": false,
    "scrolled": true
   },
   "outputs": [],
   "source": [
    "import numpy as np               #Начальное приближение решения системы уравнений.\n",
    "from numpy import linalg as la    \n",
    "from time import time\n",
    "import math\n",
    "n=10000; x1=np.ones(n)*1; x1[0]=10;x1[n-1]=1\n",
    "\n",
    "def gz(e):                       #Решение СЛУ методом Гаусса-Зейделя.\n",
    " click=time()\n",
    " q=1;N1=0;Q=np.zeros(5);Q[0]=la.norm(x1);z=[];\n",
    " while q>e:\n",
    "  j=0;\n",
    "  N1=N1+1;\n",
    "  g=la.norm(x1);\n",
    "  for j in range(1,n-1):\n",
    "   x1[j]=(1/y[j][j])*(x[j]-x1[j-1]-x1[j+1])\n",
    "  q1=la.norm(x1);Q[N1]=q1;\n",
    "  q=math.fabs((q1-g)/g)\n",
    "  clack=time()\n",
    " #return(x1,N1,q,Q)  #Всё\n",
    " return(x1)         #Решения \n",
    " #return(Q)         #Норма\n",
    " #return(clack-click)\n",
    "#print(gz(0.001))   "
   ]
  },
  {
   "cell_type": "code",
   "execution_count": 10,
   "metadata": {
    "collapsed": false,
    "scrolled": true
   },
   "outputs": [
    {
     "name": "stdout",
     "output_type": "stream",
     "text": [
      "[  10.\n",
      "  -1.8359\n",
      "  -0.7536\n",
      " ...,\n",
      "  -0.8146\n",
      "  -1.0185\n",
      "   1.    ]\n",
      "time= 77.89654111862183\n"
     ]
    }
   ],
   "source": [
    "import numpy as np          #Решение СЛУ встроенной функцией.\n",
    "from time import time\n",
    "from numpy import linalg as la\n",
    "click=time()\n",
    "z=la.solve(y,x)\n",
    "clack=time()\n",
    "print(z)\n",
    "print(\"time=\",clack-click)"
   ]
  },
  {
   "cell_type": "code",
   "execution_count": 19,
   "metadata": {
    "collapsed": false
   },
   "outputs": [
    {
     "data": {
      "image/png": "[encoded data removed]",
      "text/plain": [
       "<matplotlib.figure.Figure at 0xe6f5411cc0>"
      ]
     },
     "metadata": {},
     "output_type": "display_data"
    }
   ],
   "source": [
    "import matplotlib.pyplot as plt      #График решений СЛУ.\n",
    "import numpy as np \n",
    "plt.plot(gz(0.001),'g--') \n",
    "plt.grid(True)\n",
    "plt.show()"
   ]
  },
  {
   "cell_type": "code",
   "execution_count": 16,
   "metadata": {
    "collapsed": false
   },
   "outputs": [
    {
     "data": {
      "image/png": "[encoded data removed]",
      "text/plain": [
       "<matplotlib.figure.Figure at 0xe6f555bb70>"
      ]
     },
     "metadata": {},
     "output_type": "display_data"
    }
   ],
   "source": [
    "\n",
    "import matplotlib.pyplot as plt      #График зависимости нормы решения от номера итерации.\n",
    "import numpy as np \n",
    "plt.plot(gz(0.001),'g-') \n",
    "plt.grid(True)\n",
    "plt.show()"
   ]
  },
  {
   "cell_type": "code",
   "execution_count": 22,
   "metadata": {
    "collapsed": false
   },
   "outputs": [
    {
     "data": {
      "image/png": "[encoded data removed]",
      "text/plain": [
       "<matplotlib.figure.Figure at 0xe6f525c128>"
      ]
     },
     "metadata": {},
     "output_type": "display_data"
    }
   ],
   "source": [
    "import matplotlib.pyplot as plt      #Сравнение решений СЛУ, полученных разными методами.\n",
    "import numpy as np \n",
    "from numpy import linalg as la\n",
    "#plt.plot(gz(0.001),'g-') \n",
    "plt.plot(la.solve(y,x)-gz(0.001),'r--')\n",
    "plt.grid(True)\n",
    "plt.show()"
   ]
  }
 ],
 "metadata": {
  "anaconda-cloud": {},
  "kernelspec": {
   "display_name": "Python [Root]",
   "language": "python",
   "name": "Python [Root]"
  },
  "language_info": {
   "codemirror_mode": {
    "name": "ipython",
    "version": 3
   },
   "file_extension": ".py",
   "mimetype": "text/x-python",
   "name": "python",
   "nbconvert_exporter": "python",
   "pygments_lexer": "ipython3",
   "version": "3.5.2"
  }
 },
 "nbformat": 4,
 "nbformat_minor": 0
}
