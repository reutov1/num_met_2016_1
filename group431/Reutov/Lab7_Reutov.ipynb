{
 "cells": [
  {
   "cell_type": "markdown",
   "metadata": {},
   "source": [
    " ### Лабораторная работа №7.\n",
    " ### Решение задачи Коши для обыкновенного дифференциального уравнения.\n",
    "### Метод разложения в ряд Тейлора.\n",
    "\n",
    "Рассмотрим уравнение:\n",
    "\n",
    "$y'(x)$ = $f(x,y(x))$, x\epsilon (a,b) \n",
    "\n",
    "$y(a) = y0$\n",
    "\n",
    "Простейшим способом построения приближенного решения в точке $x_{n+1}$ сетки $w_N$ является способ, основанный на разложении решения в ряд Тейлора в предыдущей точке сетки $x_n$ по степеням шага h: \n",
    "y($x_n$+1) = y($x_n$) + $h$*g($x_n$,$y_n$,h), где $g(x,y,h)$ = $y'(x)$ + $\\frac{h}{2}$ $y''(x)$ + $\\frac{h^2}{6}$ $y'''(x)$ + ...\n",
    "Берём вместо этого ряда конечный его отрезок:\n",
    "$b_p(x,y,h)$= $y'(x)$ + $\\frac{h}{2}$ $y''(x)$ + $\\frac{h^{p-1}}{p!}$ $y^{(p)}$(x)\n",
    "и заменяя в нем производные $y^{(k)}$ (x) в силу исходного дифференциального уравнения \n",
    "$y'(x)$ = $f(x,y(x))$,\n",
    "\n",
    "$y''(x)$=$f'_x$ + $f'_y$ $f$,\n",
    "\n",
    "$y'''(x)$= $f''_{xx}$ + $f'_x$ $f'_y$ + ($( f'_y )^2$ + $2$ $f''_{xy}$) $f$ + $f''_{yy}$ $f^2$ + ,...,\n",
    "получаем последовательность приближений\n",
    "\n",
    "$y_{n+1}$ = $y_n$ + $h$ $b_p$($x_n$,$y_n$,h), $n = 0,1,2,.... $\n",
    "\n",
    "Алгоритмы  такого типа  не требуют вычисления дополнительных начальных условий и позволяют легко менять шаг интегрирования. Применимость данных методов ограничена теми задачами, для которых легко вычисляются частные производные высоких порядков функции $f(x,y)$.\n",
    "\n",
    "В моём случае $p=3$.\n",
    "\n",
    "Исходная задача вторго порядка с двумя начальными условиями, следовательно, используя замену нужно перейти к двум системам, содержащих ду первого порядка и использовать вышеизложенный алгоритм. \n",
    "\n",
    "В итоге получим:\n",
    "\n",
    "$y'_1$=$f_1$\n",
    "\n",
    "$y_1 (0) $= $a$\n",
    "\n",
    "$y'_2$=$f_2$\n",
    "\n",
    "$y_2$ (0) = $b$\n",
    "\n",
    "### Метод Рунге-Кутты кратности 4\n",
    "*Один из наиболее известных методов, его суть заключается в следубщих формулах:*\n",
    "$$\\begin{cases}\n",
    "y_{n+1}=y_n+\\frac{h}{6}(k_1+2k_2+2k_3+k_4)\\\\\n",
    "y_0=y^0, n=0,1...N-1, x_n\\in w_n\n",
    "\\end{cases}$$\n",
    "$$k_1=f(x_n,y_n)\\\\\n",
    "k2=f(x_n+\\frac{h}{2}, y_n+\\frac{hk_1}{2})\\\\\n",
    "k3=f(x_n+\\frac{h}{2}, y_n+\\frac{hk_2}{2})\\\\\n",
    "k4=f(x_n+h, y_n+hk_3)$$\n",
    "\n",
    "*C помощью этого метода также было решено уравнение $y''+y'+2y=cos(x)e^{-2x}$ с относительной\n",
    "точностью 0,01*"
   ]
  },
  {
   "cell_type": "code",
   "execution_count": 1,
   "metadata": {
    "collapsed": false
   },
   "outputs": [],
   "source": [
    "from numpy import math      #Tochnoe reshenie.\n",
    "from math import exp,sin,cos,sqrt\n",
    "def tr(x):\n",
    " return ((1/42)*exp(-2*x))*( -7*sin(x) + 11*sqrt(7)*(exp(3*x/2))*sin(sqrt(7)*x/2) + 7*cos(x) + 35*(exp(3*x/2))*cos(sqrt(7)*x/2)) "
   ]
  },
  {
   "cell_type": "code",
   "execution_count": 32,
   "metadata": {
    "collapsed": false
   },
   "outputs": [
    {
     "name": "stdout",
     "output_type": "stream",
     "text": [
      "81 0.025\n"
     ]
    }
   ],
   "source": [
    "import numpy as np\n",
    "from numpy import linalg as la\n",
    "from numpy import math\n",
    "n=250\n",
    "A=np.zeros([2,n])\n",
    "B=np.zeros([2,n])\n",
    "A[0][0]=1\n",
    "A[1][0]=0\n",
    "B[0][0]=1\n",
    "B[1][0]=0\n",
    "l=[];\n",
    "s=[n]\n",
    "a=[n];\n",
    "\n",
    "y0=np.array([1,0]); \n",
    "f1y=np.zeros([2,2])\n",
    "f1y[0][1]=1;\n",
    "f1y[1][0]=-2;\n",
    "f1y[1][1]=-1;\n",
    "\n",
    "def f1x(x1):\n",
    " return  np.array([0,-math.sin(x1)*math.exp(-2*x1)-2*math.cos(x1)*math.exp(-2*x1)])     \n",
    "def f(x1,y1,y2):\n",
    " return np.array([y2,-y2-2*y1+math.cos(x1)*math.exp(-2*x1)])\n",
    "def f2xx(x2): \n",
    " return np.array([0,2*math.sin(x2)*math.exp(-2*x2)-math.cos(x2)*math.exp(-2*x2)+4*math.cos(x2)*math.exp(-2*x2)+2*math.sin(x2)*math.exp(-2*x2)])     \n",
    "\n",
    "x0=0;\n",
    "z=1;\n",
    "y10=1;\n",
    "y20=0;\n",
    "h=0.05;\n",
    "e=0.01; \n",
    "ee=1;                 \n",
    "\n",
    "\n",
    "q=2/h;\n",
    "for i in range(1,int(q+1)):\n",
    "  y=y0.reshape(2,1)+h*(f(x0,y10,y20).reshape(2,1) +(h/2)*(f1x(x0).reshape(2,1) + np.dot(f1y,f(x0,y10,y20).reshape(2,1))) + ((h*h)/6)*(f2xx(x0).reshape(2,1)+np.dot(f1y,f1x(x0).reshape(2,1)) +  np.dot(f1y,np.dot(f1y,f(x0,y10,y20).reshape(2,1)))))     \n",
    "  A[0][i]=y[0];\n",
    "  A[1][i]=y[1];\n",
    "  y0=y.reshape(1,2); \n",
    "  a.append(y[0]);\n",
    "  x0=x0+h; y10=y[0]; y20=y[1];\n",
    "x0=0; y10=1; y20=0; \n",
    "while  ee>e:\n",
    " h=h/2; x0=0; q=2/h; y10=1; y20=0; \n",
    " y0=np.array([1,0]);\n",
    " for j in range(1,int(q+1)):\n",
    "  y=y0.reshape(2,1) + h*(f(x0,y10,y20).reshape(2,1) +(h/2)*(f1x(x0).reshape(2,1) + np.dot(f1y,f(x0,y10,y20).reshape(2,1))) +((h*h)/6)*(f2xx(x0).reshape(2,1)+np.dot(f1y,f1x(x0).reshape(2,1)) + np.dot(f1y,np.dot(f1y,f(x0,y10,y20).reshape(2,1))))) \n",
    "  B[0][j]=y[0];\n",
    "  B[1][j]=y[1];\n",
    "  y0=y.reshape(1,2); z=z+1;\n",
    "  x0=x0+h;y10=y[0];y20=y[1];\n",
    "  s.append(y[0])\n",
    " for k in range(1,int((q+1)/2)):\n",
    "  l.append(abs((a[k]-B[0][2*k])/a[k]))\n",
    " ee=np.min(l)\n",
    " A=B\n",
    " a=s\n",
    "print(z,h)"
   ]
  },
  {
   "cell_type": "code",
   "execution_count": 3,
   "metadata": {
    "collapsed": false,
    "scrolled": true
   },
   "outputs": [
    {
     "data": {
      "image/png": "iVBORw0KGgoAAAANSUhEUgAAAZAAAAEPCAYAAABsj5JaAAAABHNCSVQICAgIfAhkiAAAAAlwSFlz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\nQmCC\n",
      "text/plain": [
       "<matplotlib.figure.Figure at 0xdc108b5668>"
      ]
     },
     "metadata": {},
     "output_type": "display_data"
    }
   ],
   "source": [
    "% matplotlib inline                  #fazovai ploskost'.\n",
    "w=[];x=[];y1=[];\n",
    "import matplotlib.pyplot as plt\n",
    "import numpy as np\n",
    "for i in range(0,80):\n",
    " w.append(B[0][i])\n",
    " y1.append(B[1][i])\n",
    "plt.xlabel(\"Y\")\n",
    "plt.ylabel(\"Y1\")\n",
    "plt.plot(w,y1,'g')\n",
    "plt.grid(True)\n",
    "plt.show()"
   ]
  },
  {
   "cell_type": "code",
   "execution_count": 4,
   "metadata": {
    "collapsed": false
   },
   "outputs": [
    {
     "data": {
      "image/png": "iVBORw0KGgoAAAANSUhEUgAAAZAAAAEPCAYAAABsj5JaAAAABHNCSVQICAgIfAhkiAAAAAlwSFlz\nAAALEgAACxIB0t1+/AAAIABJREFUeJzt3Xu8lWP+//HXp71LDqnJWTIRihptmrIz0W5CW5piMDqh\nDMUw+PoZ5TRlvnwxGE0TI+NUaMIYJpEyahtUhJKaSmJTMXjMaCSnDtfvj2vFVmuf1r7Xuu57rffz\n8ViPx7rXvvfaH5/H/fDpvj73dV3mnENERKS+GoUOQEREkkkFREREMqICIiIiGVEBERGRjKiAiIhI\nRlRAREQkI8ELiJndbWYfmtmiGs4ZZ2YrzGyhmZXkMj4REUkveAEB7gV6V/dDMzseaOucOxAYAdyR\nq8BERKR6wQuIc+4F4JMaTukPTEqd+xLQ3Mz2yEVsIiJSveAFpA5aAauqHK9JfSYiIgEloYCIiEgM\nFYcOoA7WAK2rHO+T+mwbZqaFvURE6sk5Z5n8XlwKiKVe6UwFzgceMrNSYK1z7sPqvijjxSGdg48+\ngspKePtteOcdWLkSli2DpUvBDA4+GDp1gsMOg5IS6NgRmjbN7O/F3JgxYxgzZkzoMPKG8hkt5TM6\nZhnVDiAGBcTMJgNlwC5m9h4wGmgCOOfcnc65p8ysj5m9BawHhmUpENhjD/864ojv/mxLcfnnP+H1\n1+H552HcOFixwheVbt38q7QU2rb135VwlZWVoUPIK8pntJTPeAheQJxzg+pwzgW5iKVaVYtLz57f\nfv7ll7BgAcydC1OnwuWXw4YNUFbmXz17wkEH5UVBERHZmuXTfiBm5oL/91RWQkWFf82eDRs3Qu/e\nUF4OxxwDLVuGja+OKioqKCsrCx1G3lA+o6V8RsfMMu6BqIBk21tvwYwZ8PTT8Nxzvm/Sv79/tW8f\nOjoRKXANKSB6jDfbDjgAzj8fnngCPv4YxoyB997zdyPt28PIkfDqq77PEiMVFRWhQ8gryme0lM94\nUAHJpe22g+OOg9tu80Xk/vuhqAhOOw0OPBCuugreeCN0lCIidaIhrDhwzt+FPPQQPPwwtGgBZ5wB\ngwfDnnuGjk5E8ph6ICmJLSBVbd4M//gHTJwIjz8ORx4Jw4b5nknjxqGjE5E8ox5IPmnUyD8CfO+9\nsHo1DBgA48dD69b+MeGVK3MShsaYo6V8Rkv5jAcVkDjbcUc4/fRvHwv++ms/WfG442DaNH+3IiIS\niIawkubLL+GRR+D3v4e1a/0TXsOG+b6JiEg9aQirkDRt6u9K5s/3T3HNnw/77w//8z/w7ruhoxOR\nAqICklRmfv2tyZNh0SIoLobDD/dPbi1Y0OCv1xhztJTPaCmf8aACkg/22QduusmvIlxSAj/5CfTp\nA3PmhI5MRPKYeiD56Kuv4L774IYbYL/9/ATFnj21qKOIbEPzQFJUQLayYQP8+c9w3XV+JeHf/MY/\nIiwikqImuqTXuLGf0b5kCZxzDpx9NvTqVaehLY0xR0v5jJbyGQ8qIIWguNg/ubV0KQwa5F8nnOCb\n7yIiGdIQViH66iuYMMEPbfXu7Ye22rQJHZWIBKAhLKmf7baDCy/0W/Lutx907gyXXAKffBI6MhFJ\nEBWQQrbzznDNNb5Hsn49tGvn93rfsEFjzBFTPqOlfMaDCoj4JeMnTIBZs+DJJ/2uiXPnxm6TKxGJ\nF/VAZFtPP+2XRmnTBsaO9XcmIpKX1AORaJWX+ye0jj0WuneHyy6DTz8NHZWIxIwKiKRV8eKLvrH+\nxht+L/eDD/aTEnWHlxGN2UdL+YwHFRCp2Z57+s2tHnnEL41y7LGwfHnoqEQkBtQDkbrbuBH+8Ac/\nf+S88+CKK2D77UNHJSINoB6I5EZxsW+uv/46LFsGnTrB7NmhoxKRQFRAJK0ax5hbtfJDWjffDGee\nCWedBf/5T85iSyKN2UdL+YwHFRDJXL9+sHgx7LQTdOgADz2kJrtIAQneAzGzcmAsvpjd7Zy7cauf\n7ww8AOwLFAG3OOfuq+a71AMJZd48fyfSvj3cfrtvvotI7CW2B2JmjYDxQG+gAzDQzNpvddr5wBLn\nXAnQE7jFzIpzG6nUqrQUXnvNP+7bqZPfr13FXCSvhR7C6gqscM6965zbAEwB+m91jgOapd43A/7t\nnNuYwxgLUkZjzE2b+ie0pk/3/ZF+/eCDDyKPLYk0Zh8t5TMeQheQVsCqKserU59VNR44xMzeB14H\nLspRbJKpww+H+fP9/uwlJTBliu5GRPJQ0B6ImZ0M9HbODU8dDwG6Oucu3OqcI51z/8/M2gLPAIc6\n5z5L833qgcTN/Pn+Sa2OHX1vZNddQ0ckIlU0pAcSupewBt8c32Kf1GdVDQOuB3DOrTSzd4D2wCvp\nvnDo0KG0SW2O1KJFC0pKSihL7QO+5bZXxzk+fu01uOoqKtq1g1/9irJRo+IVn451XEDHW95XVlbS\nUKHvQIqA5UAv4APgZWCgc25plXNuAz5yzl1jZnvgC0cn59w2Ew90BxKdioqKby68yDz3nL8bOf54\n3yPZccdovz/GspLPAqZ8RiexT2E55zYBFwAzgSXAFOfcUjMbYWbDU6ddCxxpZovww1eXpSsekgA9\nevhZ7OvXf9snEZHECj4PJEq6A0mQRx6BCy6Aiy/2y8UXFYWOSKQgNeQORAVEwlm1Ck4/HRo1gkmT\nYJ99QkckUnASO4Ql8VW14ZY1rVvDs89Cr17QuTM89lj2/2YgOclnAVE+40EFRMIqKoIrr4S//Q0u\nvRTOPx++/DJ0VCJSBxrCkvj4739h+HC/VPxDD/l1tUQkqzSEJfmheXM/a/388+Goo2DixNARiUgN\nVEAkrWBjzGb+LmT2bLjxRhg61D/2m3Aas4+W8hkPKiASTx07+nkimzdD166wdGntvyMiOaUeiMSb\nc3DPPTBqFNx6KwwZEjoikbyieSApKiB5bNEiOPVUP5t93Di/dLyINJia6BK52I0xH3oovPIKfPIJ\n/OhH8M47oSOql9jlM+GUz3hQAZHkaNYMHn7Yz14vLYWnngodkUhB0xCWJNMLL8CAATBsGIwZo7W0\nRDKkHkiKCkiB+fBDOO002H57ePBBaNkydEQiiaMeiEQuEWPMe+wBzzwDhxwCXbrAwoWhI6pWIvKZ\nIMpnPKiASLI1bgy33ALXXQfHHgsPPBA6IpGCoSEsyR+LF8NJJ0HfvnDTTVAcesdmkfhTDyRFBUT4\n5BMYNAi+/tovyLjrrqEjEok19UAkcokdY/7e92DaNL/8SZcusGBB6IiABOczppTPeFABkfxTVATX\nX+8XYzzuOL/Cr4hETkNYkt9efx1OPBEGDoRrr/Xb54rIN9QDSVEBkbQ+/tivo9WsmZ8vsvPOoSMS\niQ31QCRyeTXGvNtufr7Ivvv6JVDeeivnIeRVPmNA+YwHFRApDI0bw223wUUXQffuMGtW6IhEEk9D\nWFJ4Kir8OlqjR8N554WORiQo9UBSVECkzlauhH79oKwMxo71dygiBUg9EIlc3o8xt20Lc+dCZSUc\nf7yfgJhFeZ/PHFM+40EFRArXzjvD1Kl+s6rSUlixInREIomiISwRgD/9Ca66yk867NkzdDQiOaMh\nLJGGOuccXzwGDIC77godjUgiBC8gZlZuZsvM7E0zG1nNOWVmtsDMFpvZ7FzHWIgKcoy5Z0+/0+Fv\nfwuXXQabN0f21QWZzyxSPuMhaAExs0bAeKA30AEYaGbttzqnOXAb0Nc51xE4NeeBSuE48ECYNw9e\nfhlOPhnWrw8dkUhsBe2BmFkpMNo5d3zqeBTgnHM3VjnnPGAv59yv6/B96oFINL7+GkaMgEWLfKO9\nVavQEYlkRZJ7IK2AVVWOV6c+q+ogoKWZzTaz+WZ2es6ik8LVpAncc49fQ6tbN78oo4h8RxK2bCsG\nDgd+DOwIzDWzuc65tAsaDR06lDZt2gDQokULSkpKKCsrA74dN9Vx7cdVx5jjEE+Q4+eeg9JSytq2\nhWOPpeKSS/yx8hn8WPnM/HjL+8rKShoqDkNYY5xz5anjdENYI4GmzrlrUsd3AdOdc4+m+T4NYUWk\noqLimwtP8JMOf/pTuPpq+MUv6v3ryme0lM/oJHYpEzMrApYDvYAPgJeBgc65pVXOaQ/8ASgHtgNe\nAk5zzv0zzfepgEj2vP02nHAClJfDzTf7jatEEi6xPRDn3CbgAmAmsASY4pxbamYjzGx46pxlwAxg\nETAPuDNd8RDJuv33hzlzYOFCOOUU+Pzz0BGJBKWZ6JKWhghq8PXXcPbZsHy5f0Jrjz1q/RXlM1rK\nZ3QSewcikkhNmsDEiX4Rxm7dYNmy0BGJBKE7EJGGmDjRz1p/+GHo0SN0NCL1pjsQkVDOPBMmT/bz\nRSZPDh2NSE6pgEhaVZ8Zl1r06gXPPguXXw433ABp7oKVz2gpn/GgAiIShR/8wD+hNWWK3yZ348bQ\nEYlknXogIlFat84PZxUX+2Ky006hIxKpkXogInHRrBk88QTsvrtfHv7DD0NHJJI1KiCSlsaYG6Bx\nY7j7bujb1z/mu3y58hkx5TMeVEBEssEMRo/22+T26AGLF4eOSCRy6oGIZNvTT8MZZ8CECXDSSaGj\nEfmOhvRAkrCcu0iylZf7IvKTn8CaNXDBBaEjEomEhrAkLY0xR6vi00/9fuvjx8PIkZHut16IdH3G\ngwqISK7stx+8+KIvJKef7hdlFEkw9UBEcu2LL2DwYPj0U3j0UWjePHREUsA0D0QkSbbfHh55BNq1\ng6OPhvffDx2RSEZUQCQtjTFHa5t8FhX5fsiAAXDkkbB0adrfk/R0fcaDnsISCcXML8DYqhWUlfnh\nrO7dQ0clUmfqgYjEwYwZMGQI3Hmn5opITmkeiEjS9e797VyRDz6AX/widEQitVIPRNLSGHO06pTP\nzp39I75jx8IVV6TdV0Q8XZ/xoAIiEif77+/nijz7LAwbBhs2hI5IpFrqgYjE0fr1cNppsGmTf+RX\n+4pIlmgeiEi+2XFHePxx2Htvv6/IRx+FjkhkGyogkpbGmKOVUT6Li+Guu6BPHz9XZOXKyONKKl2f\n8aCnsETizAyuucbfiRx1FEydCj/8YeioRAD1QESS4/HHYfhwuP9+/9ivSATUAxEpBCeeCI895jen\nmjQpdDQiKiCSnsaYoxVZPn/0I6iogKuvhhtuKNi5Iro+4yF4ATGzcjNbZmZvmtnIGs7rYmYbzOyn\nuYxPJHYOPhjmzIHJk+Gii/yjviIBBO2BmFkj4E2gF/A+MB8Y4Jxblua8Z4AvgHucc3+t5vvUA5HC\nsXatH9babTffF2naNHREkkBZ6YGY2VNm1ibToOqoK7DCOfeuc24DMAXon+a8XwJ/AfQwvMgWLVr4\n9bPM/L7ra9eGjkgKTE1DWPcCM83sSjNrnKW/3wpYVeV4deqzb5jZ3sCJzrk/AhlVSak/jTFHK2v5\nbNoUpkyBTp38Y76rV2fn78SMrs94qHYeiHPuETObDlwNvGJm9wObq/z8dzmID2AsULU3UmMRGTp0\nKG3atAGgRYsWlJSUUFZWBnx70elYx3l3PHYsFeeeC507UzZrFnToEK/4dByb4y3vKysraagaeyBm\n1gQYBQwCHuK7BeSaBv9xs1JgjHOuPHU8yn+1u7HKOW9veQvsCqwHhjvnpqb5PvVApLDdfz9ceqk2\np5I6a0gPpNoCYmblwO+AqcBvnHOfZx5iNX/crAhYjm+ifwC8DAx0zqXd39PM7gWeUBNdpAYzZ8Lg\nwTBhAvxUDy1KzbI1kfBK4FTn3KhsFA8A59wm4AJgJrAEmOKcW2pmI8xseLpfyUYcsq2qt7vScDnN\n53HH+R0Of/lLuP323P3dHNL1GQ819UCOykUAzrmngXZbfTahmnPPykVMIol3+OHw/PP+6azVq+G6\n6/zTWiIR0lpYIvns44+hb19o396v7Ns4Ww9USlJpLSwRSW+33WDWLPj3v/1+6+vWhY5I8ogKiKSl\nMeZoBc3nls2pWreGsjL417/CxRIRXZ/xoAIiUgiKi+HOO6FfP7851Ztvho5I8oB6ICKF5u674cor\n/V1JaWnoaCQw9UBEpO5+/nO45x7fE5m6zXxckTpTAZG0NMYcrdjls08feOopGDEC7rgjdDT1Frt8\nFijtiS5SqLp0gRde8HNFVq2Ca6/VXBGpF/VARArdxx/74ax27eBPf4ImTUJHJDmkHoiIZG7LXJG1\na+GEE+DTT0NHJAmhAiJpaYw5WrHP5w47wF//Cgce6PcVWbMmdEQ1in0+C4QKiIh4RUVw220waJCf\nK7J4ceiIJObUAxGRbU2eDBdfDA89BD17ho5Gskg9EBGJ1qBBvngMGAAPPBA6GokpFRBJS2PM0Upk\nPnv29M31q67yy8HH6O4+kfnMQyogIlK9Dh1gzhy/Re6IEbBxY+iIJEbUAxGR2q1bBz/7mX//8MPQ\nrFnYeCQy6oGISHY1awZPPAH77puIx3wlN1RAJC2NMUcrL/JZXOzXzRo4ELp1g0WLgoWSF/nMAyog\nIlJ3ZjByJNx0ExxzDMyYEToiCUg9EBHJzAsvwCmnwP/+L5xzTuhoJEMN6YGogIhI5t5806+fdfLJ\n8H//B400qJE0aqJL5DTGHK28zedBB8Hcuf5uZMAA+OKLnPzZvM1nwqiAiEjD7Lor/P3vvsneq5df\nHl4KgoawRCQamzfD6NHw4IMwbRocckjoiKQO1ANJUQERiYGJE+FXv/ILMh5zTOhopBbqgUjkNMYc\nrYLK55lnwiOPwODBfofDLCiofMaYCoiIRK9HD3j+eT9f5NJLYdOm0BFJFgQfwjKzcmAsvpjd7Zy7\ncaufDwJGpg7XAec5596o5rs0hCUSJ//+t3/Et3lz3xvZaafQEclWEjuEZWaNgPFAb6ADMNDM2m91\n2tvA0c65TsC1QHbuiUUkervsAjNn+ie1uneHVatCRyQRCj2E1RVY4Zx71zm3AZgC9K96gnNunnPu\nv6nDeUCrHMdYkDTGHK2CzmeTJnDXXTBkCJSWwvz5Df7Kgs5njIQuIK2Aqv8kWU3NBeJsYHpWIxKR\n6Jn5Xsjtt0OfPn63Q0m84tAB1JWZ9QSGAd1rOm/o0KG0adMGgBYtWlBSUkJZWRnw7b9adFz7cVlZ\nWaziSfqx8pk6bt6csr//Hfr1o2L6dDjjDMp+/ON6f5/ymfnxlveVlZU0VNAmupmVAmOcc+Wp41GA\nS9NIPxR4FCh3zq2s4fvURBdJgn/9C046CVq3hvvugx12CB1RwUpsEx2YDxxgZt83sybAAGBq1RPM\nbF988Ti9puIh0ar6rxVpOOVzK3vuCbNnw3bbwdFHw+rV9fp15TMeghYQ59wm4AJgJrAEmOKcW2pm\nI8xseOq0q4GWwO1mtsDMXg4UrohEqWlTmDTJb5V7xBEwb17oiKSegs8DiZKGsEQSato0OOssuOUW\nOP300NEUFK2FlaICIpJgS5ZAv35+4uH110NRUeiICkKSeyASUxpjjpbyWQcdOsDLL8Orr0LfvvDJ\nJ9WeqnzGgwqIiMTHLrv4fdbbtfN9kaVLQ0ckNdAQlojE0733wsiRcM89/o5EskI9kBQVEJE8M28e\nnHIKnHsuXHGF9lzPAvVAJHIaY46W8pmh0lLfF3nySV9I1q0DlM+4UAERkXjbe2+oqPAr+paWwooV\noSOSFA1hiUhyTJgAV1/t+yMnnBA6mrygHkiKCohIAZgzx89eP+ccX0zUF2kQ9UAkchpjjpbyGaEj\nj6Ri3DhIrepb03wRyS4VEBFJnpYtYdYsaNsWunSBRYtCR1SQNIQlIsn24INw8cXwu99pHa0MqAeS\nogIiUqDeeMOvodWrF4wd65eJlzpRD0QipzH7aCmf0domnz/4gd9r/cMP/f4i770XJK5CowIiIvmh\neXN49FE49VTo2hWmTw8dUd7TEJaI5J/nn4dBg+DMM2HMGCguDh1RbKkHkqICIiLf+OgjX0Q2bYI/\n/9lvoyvbUA9EIqcx+2gpn9GqUz53390vDX/00dC5s3/sVyKlAiIi+auoCK65BiZOhCFD/HDWpk2h\no8obGsISkcLwwQcweLB//+CDsNdeYeOJCQ1hiYjUZq+94JlnoEcPP6Q1Y0boiBJPBUTS0ph9tJTP\naGWcz6IiGD0aJk+Gs8+Gyy6Dr7+ONLZCogIiIoWnrAwWLPB7rnfvDm+/HTqiRFIPREQKl3Mwbhxc\nd51fAmXQoNAR5ZzmgaSogIhIRhYs8MXjhz+E226DnXcOHVHOqIkukdOYfbSUz2hFns/DDoNXX4Ud\nd/Tv582L9vvzlAqIiAjADjvAHXfAzTdD//7wm9/Axo2ho4o1DWGJiGxtzRoYNgzWrYP774cDDggd\nUdYkegjLzMrNbJmZvWlmI6s5Z5yZrTCzhWZWkusYRaTAtGoFTz8NAwZAt25w112+4S7fEbSAmFkj\nYDzQG+gADDSz9ludczzQ1jl3IDACuCPngRYgjdlHS/mMVk7y2agRXHQRVFT4xvqJJ/r9RuQboe9A\nugIrnHPvOuc2AFOA/lud0x+YBOCcewlobmZ75DZMESlYHTrASy9Bx47QqZPfc0SA8AWkFbCqyvHq\n1Gc1nbMmzTkSsbKystAh5BXlM1o5z2eTJn6uyGOPweWX+73X167NbQwxFLqAiIgkR7dufs5IixZ+\nG92nngodUVCht+laA+xb5Xif1Gdbn9O6lnO+MXToUNq0aQNAixYtKCkp+eZfK1vGTXVc+3HVMeY4\nxJP0Y+Uzz/L5hz9Qsd9+cNZZlB1/PNx6KxULF4aLpx7HW95XVlbSUEEf4zWzImA50Av4AHgZGOic\nW1rlnD7A+c65E8ysFBjrnCut5vv0GG9EKioqvrnwpOGUz2jFJp+ffeYXZHziCZgwAfr0CR1RvSV6\nKRMzKwd+jx9Ou9s5d4OZjQCcc+7O1DnjgXJgPTDMOfdaNd+lAiIiuTdrFvz853DUUXDrrbDLLqEj\nqrNEF5AoqYCISDCffQZXXQUPP+wXaDz5ZLCM/r+cU4meSCjxVHW8VBpO+YxWLPO5005+Rd+//AWu\nvtoXkPffDx1VVqmAiIhE6cgj/ZNaHTr4eSN33AGbN4eOKis0hCUiki2LF8Pw4X4o6847fVGJGQ1h\niYjEUceO8MILMGSI3wXxyivh889DRxUZFRBJK5ZjzAmmfEYrUfls1AjOOw9efx1WrvRFJU8mIKqA\niIjkwt57w5Qp8Mc/woUXwimnwOrVoaNqEPVARERy7Ysv4IYb/Cq/l10GF1/s19sKQD0QEZEk2X57\nuOYav8rvP/4Bhx4KzzwTOqp6UwGRtBI1xpwAyme08iafbdvCtGl+G91zz/VzR955J3RUdaYCIiIS\nWt++sGQJdO4MXbr4Ge2ffRY6qlqpByIiEidr1sCoUTB7Nlx/PQwe7J/kyhKthZWiAiIieWPuXN9c\n37wZbrkFjj46K39GTXSJXN6MMceE8hmtgshnt26+iFxyCZxxBpx0EqxYETqq71ABERGJq0aNYOBA\nWLoUjjjCF5Vf/hI++ih0ZICGsEREkuPjj/3e7A884CcjXnKJXwW4ATSEJSJSCHbbzS8Z//LLsHw5\nHHggjB8PX30VJBwVEEmrIMaYc0j5jFbB53P//eHBB/2aWtOnQ7t2cN99sHFjTsNQARERSarDDoMn\nn/TF5N57/UKNU6bkbP8R9UBERPKBc345lF//Gtatg9Gj/YKNtcwh0TyQFBUQESl4zsGMGb6ArF/v\nC8rJJ0NRUdrT1USXyBX8GHPElM9oKZ81MIPycpg3D377W7j1Vr8T4qRJsGFDpH9KBUREJB+ZQZ8+\nMGcO3H67b7K3awcTJsCXX0bzJ/JpyEdDWCIiNXjxRb8PySuv+AmJ552HtWypHgiogIiI1MnixXDT\nTTBtGvaf/6gHItHSGHO0lM9oKZ8N1LEjTJwICxY06GtUQERECtW++zbo1zWEJSJSwPQYr4iI5Fyw\nAmJm3zOzmWa23MxmmFnzNOfsY2azzGyJmb1hZheGiLUQaYw5WspntJTPeAh5BzIK+Ltzrh0wC7g8\nzTkbgUuccx2AbsD5ZtY+hzEWrIULF4YOIa8on9FSPuMhZAHpD0xMvZ8InLj1Cc65fznnFqbefwYs\nBVrlLMICtnbt2tAh5BXlM1rKZzyELCC7O+c+BF8ogN1rOtnM2gAlwEtZj0xERGpVnM0vN7NngD2q\nfgQ44Ko0p1f7+JSZ7QT8BbgodSciWVZZWRk6hLyifEZL+YyHYI/xmtlSoMw596GZ7QnMds4dnOa8\nYmAaMN059/tavlPP8IqI1FOmj/Fm9Q6kFlOBocCNwJnA36o57x7gn7UVD8g8CSIiUn8h70BaAg8D\nrYF3gZ8559aa2V7An5xzfc3sR8A/gDfwQ1wOuMI593SQoEVE5Bt5NRNdRERyJ3Ez0c2s3MyWmdmb\nZjaymnPGmdkKM1toZiW5jjFJasunmfUws7Vm9lrqle4BCAHM7G4z+9DMFtVwjq7NOqotn7o2666u\nk7LrfX065xLzwhe8t4DvA42BhUD7rc45Hngy9f4IYF7ouOP6qmM+ewBTQ8eahBfQHf+o+aJqfq5r\nM9p86tqsey73BEpS73cClkfx/86k3YF0BVY45951zm0ApuAnJFbVH5gE4Jx7CWhuZnsg6dQln+Af\nv5ZaOOdeAD6p4RRdm/VQh3yCrs06cXWblF3v6zNpBaQVsKrK8Wq2TcLW56xJc454dcknQLfULe2T\nZnZIbkLLS7o2o6drs55qmJRd7+sz5GO8kgyvAvs65z43s+OBx4GDAsckAro26y3qSdlJuwNZA1Td\nAWWf1Gdbn9O6lnPEqzWfzrnPnHOfp95PBxqnHsGW+tO1GSFdm/WTmpT9F+B+51y6eXf1vj6TVkDm\nAweY2ffNrAkwAD8hsaqpwBkAZlYKrHWpNbdkG7Xms+oYqJl1xT/6/Z/chpkoRvXj8ro266/afOra\nrLfaJmXX+/pM1BCWc26TmV0AzMQXv7udc0vNbIT/sbvTOfeUmfUxs7eA9cCwkDHHWV3yCZxiZucB\nG4AvgNPCRRxvZjYZKAN2MbP3gNFAE3RtZqS2fKJrs85Sk7IHA2+Y2QJSk7LxT2BmfH1qIqGIiGQk\naUNYIiIZpA/KAAABAklEQVQSEyogIiKSERUQERHJiAqIiIhkRAVEREQyogIiIiIZUQERyZLUEtpv\nm1mL1PH3Usf71va7IkmgAiKSJc651cDt+G2bAW4A7nDOvRcuKpHoaCKhSBal1h96BbgXOBu/J8Om\nsFGJRCNRS5mIJI1zbqOZXQY8DRyj4iH5RENYItnXB3gf+EHoQESipAIikkWpfaV7AaXAJdqBUPKJ\nCohIdt2O37xnNfBb4JbA8YhERgVEJEvM7BzgXefcrNRHfwTam9lRAcMSiYyewhIRkYzoDkRERDKi\nAiIiIhlRARERkYyogIiISEZUQEREJCMqICIikhEVEBERyYgKiIiIZOT/A+IK9o4Ccs40AAAAAElF\nTkSuQmCC\n",
      "text/plain": [
       "<matplotlib.figure.Figure at 0xdc12fede48>"
      ]
     },
     "metadata": {},
     "output_type": "display_data"
    }
   ],
   "source": [
    "w=[];x=[];h1=0.025; y1=[];     #reshenie yravnenia.\n",
    "% matplotlib inline\n",
    "import matplotlib.pyplot as plt\n",
    "for i in range(0,81):\n",
    " w.append(A[0][i])\n",
    " x.append(i*h1)\n",
    "plt.xlabel(\"X\")\n",
    "plt.ylabel(\"Y\")\n",
    "plt.plot(x,w,'r')\n",
    "plt.grid(True)\n",
    "plt.show()"
   ]
  },
  {
   "cell_type": "code",
   "execution_count": 5,
   "metadata": {
    "collapsed": false
   },
   "outputs": [
    {
     "data": {
      "image/png": "iVBORw0KGgoAAAANSUhEUgAAAbYAAAEPCAYAAAAuzOHNAAAABHNCSVQICAgIfAhkiAAAAAlwSFlz\nAAALEgAACxIB0t1+/AAAIABJREFUeJzt3XmUVNW59/HvDwSjEQVUQDEIEcc4EBIRNUo7II0aUKPY\nToAxDjhEk9wVIJpXk3hFvGrQJA5RFPRqkOBEFAEVOhoHRBRHhtYICgIaFa9jZHjeP/ZuLDpdPZ6u\nU8PzWasW5+za+9TuvYp++uzpyMxwzjnnikWrtCvgnHPOJckDm3POuaLigc0551xR8cDmnHOuqHhg\nc845V1Q8sDnnnCsqqQc2SeWSFkpaLGlkljzXS6qSNF9Sr/rKSuogaaakRZJmSNoq473R8VoLJB2R\nkd5b0svxWuMy0g+SNE/SGknH1ajXsJh/kaShSbWJc865pks1sElqBfwRGAB8BzhJ0m418gwEdjKz\nnYGzgZsaUHYU8JiZ7QrMAkbHMnsAQ4DdgYHADZIUy9wInGFmuwC7SBoQ05cCw4C7atSrA/D/gH2B\n/YBLMwOoc865dKR9x9YHqDKzpWa2BpgEDK6RZzBwB4CZzQG2ktS5nrKDgYnxeCJwTDweBEwys7Vm\ntgSoAvpI6gK0M7O5Md8d1WXM7G0zexWouZJ9ADDTzD42s9XATKC8GW3hnHMuAWkHtq7AOxnny2Ja\nQ/LUVbazma0CMLOVQKcs11qeca1l9dSjvrpXX8s551yK0g5sTaH6s/wH3zfMOedKxCYpf/5yoFvG\n+Q4xrWaeb9WSp20dZVdK6mxmq2I343v1XCtben11L6tRZnZtGSV5YHXOuSYws0bfzKR9xzYX6Clp\nR0ltgQpgao08U4GhAJL6AqtjN2NdZacCw+PxMODBjPQKSW0l9QB6As/F7sqPJfWJk0mGZpTJlNnA\nM4D+kraKE0n6x7RamZm/EnpdeumlqdehWF7elt6e+fxqqlTv2MxsnaTzCRMvWgHjzWyBpLPD2/Zn\nM5sm6UhJbwCfAafXVTZeeiwwWdKPCbMah8Qyr0uaDLwOrAHOta9b7zxgAvANYJqZTQeQ9H3gfqA9\ncLSky8xsLzP7SNLvgOcJXZ2/sTCJxLWwJUuWpF2FouFtmSxvz/yQdlckMYDsWiPt5hrn5ze0bEz/\nEDg8S5kxwJha0ucBe9WS/jwbd1NmvjeBEAydc87libS7Ip1rtOHDh6ddhaLhbZksb8/8oOb0Y7qG\nkWTezs451ziSsAKcPOJco1VWVqZdhaLhbZksb8/8kPoYmytCn34Kr70WXsuXw8qVX78+/xzWrv36\ntemm0L59eHXoAJ06Qc+esNNO4d9u3WAT/5o65xrOuyJzoKi7Itevh1degVmz4Mkn4aWXYMUK2G03\n2HPPEJi6dPn69c1vhkC1ySbQujX8+9+wenV4ffRRCH5vvglvvBFe//oX7LMP7LdfePXtC927p/1T\nO+dyoKldkR7YcqDoAtsnn8DUqfDggzB7drjbOuww6NcPvvvdcKeV1F3WJ5/A88/Dc8/BnDnw9NOw\n5ZYwcGB49esHm22WzGc55/KKB7Y8VhSB7csv4eGHYdIkmDkTDjoIfvSjENC6dau/fFLMqLz1Vsre\nfx8eeSTcIZaXw6mnhn/bts1dXYpAZWUlZWVlaVejaHh7Jssnj7iW8c47MHp0CF433ggDBsBbb8FD\nD8Hpp+c2qAFIsPPO8Ktfha7Pt94KwfXqq2H77eGcc8IdnnOuZPkdWw4U5B3b00/DtdeGrsbTToPz\nzgsBJZ8tWQJ33w1//nMYz7vgAjj++DBBxTlXcLwrMo8VVGCbMwf+3/+DxYvhv/4Lhg6Fdu3SrlXj\nrFsX7ij/8Ad49dUQlC+4IIwFOucKhndFuuZ58UU4+uhwh3PccbBoUQgIeRjU6l0r1Lo1DB4Mjz0W\nZmu++WaY0HLJJfDBBzmpY6HwdVfJ8vbMDx7YSt2//gVnnQVHHhnGz6qq4Oyzi2cSxh57wIQJYVbl\ne+/BLruEMcPVvl+1c8XKuyJzIC+7Itetg1tuCd2OJ50Ev/lNaXTVvf02/Pa38Le/hQkoI0YUTxB3\nrsj4GFsey7vA9vLL8OMfw+abwx//CHvvnXaNcu+VV2DkyDCWeOWVYemCmvJwdudcS/ExNle/tWth\nzJgwPf7cc+Hvfy/IoJbIOMZee8G0aXDzzeEObsCAEORKjI8JJcvbMz94YCsVCxfCgQfC44/DvHnh\njs3vUEKQf+GFsIvJAQeErtkvvki7Vs65ZvCuyBxItSvSDG69NUyY+O1vwwLmVv73TK2WLYOf/zwE\n/ltugUMPTbtGzpU0H2PLY6kFts8+C12O8+bBlClhY2JXv2nTwszQQYNg7FjYYou0a+RcSfIxNrex\nRYvCbvhmYdF1EQW1Fh/HOPLIMLnk88/DGOTs2S37eSnyMaFkeXvmh9QDm6RySQslLZY0Mkue6yVV\nSZovqVd9ZSV1kDRT0iJJMyRtlfHe6HitBZKOyEjvLenleK1xGeltJU2KZZ6R1C3jvXWSXpD0oqQH\nkmyXZrn/fvjBD+DCC2HixPCoGNc47dvD7beHWaNDh8JFF4VH7Djn8p+ZpfYiBNY3gB2BNsB8YLca\neQYCD8fj/YBn6ysLjAV+GY9HAlfG4z2AFwkPWO0ey1d3x84B9o3H04AB8XgEcEM8PhGYlFG3/2vg\nz2k5sX692ZgxZjvsYPb887n5zFLwwQdmxx1nts8+Zq+/nnZtnCsZ8Xdno2NL2ndsfYAqM1tqZmuA\nScDgGnkGA3cAmNkcYCtJnespOxiYGI8nAsfE40GEwLTWzJYAVUAfSV2AdmY2N+a7I6NM5rWmAIdl\n1C1/phV+9VWY6Th5Mjz7LHzve2nXqHh07BjGKM87Dw4+OGyy7GPTzuWttANbV+CdjPNlMa0heeoq\n29nMVgGY2UqgU5ZrLc+41rIs19pQxszWAasldYzvbSrpeUlPS6oZkHPngw+gf/+wTdSTT0LXmk1Y\nXFIZx5DgzDND+954I5x4YngIaoHzMaFkeXvmh7QDW1M05S4pyT+vMz9/RzP7PnAKME5SjwQ/p2He\neSesT+vTB+6918fTWtpuu8Ezz0CHDrDvvvDaa2nXyDlXwyYpf/5yIPNJlTvEtJp5vlVLnrZ1lF0p\nqbOZrYrdjO/Vc61s6Zll3pXUGtjSzD4EMLMV8d+3JFUC3wXequ0HHT58ON27dwegffv29OrVa8OT\ndqv/ymv0+XbbwYABVB55JBx1FGVxfVqTr1cg59VpqdXn2WfhpJMoO+AAKCuj8qyzoH//vGmfxpyX\nlZXlVX0K/dzbs3nnlZWVTJgwAWDD78smacrAXFIvoDVfTwBpS5gAsnuNPEfy9eSRvnw9eSRrWcLk\nkZGWffJIW6AHG08eeZYwbifC5JHymH4uX08eqSBOHgHaA23j8TbAImpMfMn4GRo/alqfefPMunQx\nu+225K/tGu6ll8x69jQ7/3yzr75KuzbOFRUKcfKIhTGr84GZwGuEoLFA0tmSzop5pgFvSXoDuJkQ\naLKWjZceC/SXtIgw2ePKWOZ1YDLwOiF4nRsbD+A8YDywmDApZXpMHw9sI6kKuAgYFdN3B56X9CLw\nODDGzBYm2kDZPPEElJfDDTfA6afn5CPzSfVfeHlh773h+efhrbfCfpP/+lfaNWqUvGrLIuDtmR98\n55EcSHTnkdmzYcgQmDQp7HNYgjK7IfPGunVw8cVhVurUqbDnnmnXqEHysi0LmLdnsnxLrTyWWGCr\nrIQTToC//hX8P09+uusu+NnPwl6Tg9ObKOtcMWhqYEt78ohrqCeeCHdqkyd7UMtnp5wCu+4Kxx4L\nb7wRNlX2pyg4l1OFON2/9Dz5JBx/fOh+POSQtGuTurwfx/j+9+Hpp8N2ZuedF56Dl6fyvi0LjLdn\nfvDAlu/mzg1Pd777bn+MSiH51rfgH/+Af/4zPCWgCBZzO1cofIwtB5o8xrZgQbhDu+UW+OEPk6+Y\na3lr1sD554cnLEybBttvn3aNnCsY/tiaYvP222H6+FVXeVArZG3awE03hS24DjwwPE7IOdeiPLDl\no/ffhyOOCBMPhg5NuzZ5p+DGMaTwBPNf/xr69YPnnku7RhsUXFvmOW/P/OCBLd988gkMHBim9V90\nUdq1cUn68Y9Dt/JRR8H06fXnd841iY+x5UCDx9jWrg0TDbp2DY9G8Wnixenpp8NygN//Hk4+Oe3a\nOJe3fB1boTODn/407GBxww0e1IrZAQfA44+HbdE++QTOPjvtGjlXVLwrMl9ce22YHv7Xv4YJBy6r\nohjH2HNP+Pvf4corwwShlBRFW+YRb8/84Hds+eDee0O31DPPwJZbpl0blys77RQW3/fvDx9/DJdf\n7nfqziXAx9hyoM4xtrlz4cgjYcYM6N07txVz+eH998PSjoMOgnHjPLg5F/k6tkK0YgUcdxzceqsH\ntVK27bYwa1ZYxH3eebB+fdo1cq6geWBLy5dfhplxZ5/tu8A3UlGOY7RvDzNnwksvwVlnhUlEOVCU\nbZkib8/84IEtDWYwYkTYT/Dii9OujcsXW24ZuqSrqsIDZHMU3JwrNj7GlgP/McZ23XVw223w1FOw\nxRbpVczlp88+C3fxnTrBHXfAJj7Hy5Umf9BoHtsosD3+eHhm17PPQvfuqdbL5bEvvgiL9Tt3Do+/\nad067Ro5l3M+eaQQvPNOCGp/+YsHtWYoiXGMzTaDBx+ElStbtFuyJNoyh7w980PqgU1SuaSFkhZL\nGpklz/WSqiTNl9SrvrKSOkiaKWmRpBmStsp4b3S81gJJR2Sk95b0crzWuIz0tpImxTLPSOqW8d6w\nmH+RpLp3K/7qq7D/489+5g8LdQ2z+eYwdSosWxb2mfQxN+caJNWuSEmtgMXAYcC7wFygwswWZuQZ\nCJxvZkdJ2g+4zsz61lVW0ljgAzO7Kga8DmY2StIewF3AvsAOwGPAzmZmkubEz5kraVr8nBmSRgB7\nmdm5kk4EjjWzCkkdgOeB3oCAeUBvM/u4lp/T7IILYOlSeOABX6fkGuezz+Doo6FHj7A0pFXqf486\nlxOF2hXZB6gys6VmtgaYBNSc+z4YuAPAzOYAW0nqXE/ZwcDEeDwROCYeDwImmdlaM1sCVAF9JHUB\n2pnZ3JjvjowymdeaAlQ/xnoAMNPMPjaz1cBMoDzrTzptWhgr8aDmGuub34SHHoI33gjr3Hxc3Lk6\npR3YugLvZJwvi2kNyVNX2c5mtgrAzFYCnbJca3nGtZZludaGMma2DvhYUsc6rlW7KVPCWiXXbCU5\njlEd3F58MTynL6HgVpJt2YK8PfNDIc4jbsotT5J/4jbplmv4uHF0jxNG2rdvT69evSgrKwO+/s/g\n5w07nz9/fl7VJ6fnjzxC5b77wnvvUfa//wtSftXPz/28GeeVlZVMmDABYMPvy6ZIe4ytL3CZmZXH\n81GAmdnYjDw3AbPN7J54vhDoB/TIVlbSAqDMzFbFbsbZZrZ7zetLmg5cCiytzhPTK4B+ZjaiOo+Z\nzZHUGlhhZp1injIzO6e2etb4ORv2PDbnGuJf/4KyMjjxxPBUbueKVKGOsc0FekraUVJboAKYWiPP\nVGAobAiEq2M3Y11lpwLD4/Ew4MGM9Io407EH0BN4LnZXfiypjyTFz8ssMywenwDMisczgP6StooT\nSfrHNOda1jbbwGOPwf/+b3gqhHNuI6kGtjhmdT5h4sVrhIkdCySdLemsmGca8JakN4CbgXPrKhsv\nPZYQdBYRZk1eGcu8DkwGXgemAedm3EqdB4wnzLSsMrPpMX08sI2kKuAiYFS81kfA7wgzI+cAv4mT\nSFwLq+66KGldusCjj4ZdbMaPb/JlvC2T5e2ZH1IfY4sBZNcaaTfXOD+/oWVj+ofA4VnKjAHG1JI+\nD9irlvR/A0OyXGsCMKG295xrcd26hY2Ty8qgXTsYUuvX1LmS41tq5YCPsbkW9fLL4WGlt98enu3n\nXJEo1DE251xz7b132H5r+HB44om0a+Nc6jywuYLj4xi16NsX7r4bjj8e4nKIhvC2TJa3Z37wwOZc\nsTj8cLjxxtAdWVWVdm2cS42PseWAj7G5nLrlFrjiCvjHP6Br9s1wnMt3TR1jS31WpHMuYWeeCR9+\nCAMGhDG3jh3TrpFzOeVdka7g+DhGA/zyl1BeHp4K8PnnWbN5WybL2zM/eGBzrhhJcNVV0LNnWN+2\nZk3aNXIuZ3yMLQd8jM2lZs0aOOYY2HbbsM7NH5vkCoivY3PO/ac2bWDyZFi0CEaNSrs2zuWEBzZX\ncHwco5Gqn+X2t7/Btddu9Ja3ZbK8PfODz4p0rhRsvTVMnw4HHgjbbQcnnZR2jZxrMT7GlgM+xuby\nxiuvhIXcd98Nhx2Wdm2cq5OPsTnn6rfXXmHM7aSTGrX1lnOFxAObKzg+jtFM/frBDTfAUUdR+Ze/\npF2bouLfzfzgY2zOlaLjj4eVK8NC7iOOCGNwzhUJH2PLAR9jc3lr1Kiw7dbjj8Nmm6VdG+c20tQx\nNg9sOeCBzeWt9eth6FD47DOYMgVat067Rs5t4JNHXMnwcYzkVD7xBNx2G/zf/8GFF4L/AdYs/t3M\nD6kFNkkdJM2UtEjSDElbZclXLmmhpMWSRjakvKTRkqokLZB0REZ6b0kvx2uNy0hvK2lSLPOMpG4Z\n7w2L+RdJGpqRfrukf0p6UdILkvZOsn2cy5m2beG+++DJJ8P+ks4VuNS6IiWNBT4ws6tiwOpgZqNq\n5GkFLAYOA94F5gIVZrYwW3lJewB3AfsCOwCPATubmUmaA5xvZnMlTQOuM7MZkkYAe5nZuZJOBI41\nswpJHYDngd6AgHlAbzP7WNLtwFQzu78BP6t3Rbr8t3w5HHAAjBkDJ5+cdm2cK8iuyMHAxHg8ETim\nljx9gCozW2pma4BJsVxd5QcBk8xsrZktAaqAPpK6AO3MbG7Md0dGmcxrTQEOjccDgJlm9rGZrQZm\nAuUZ9fOuXFc8unaFhx+Giy6C2bPTro1zTZbmL+ZOZrYKwMxWAp1qydMVeCfjfFlMA+icpXzNMstj\nWtdYvrZrbShjZuuAjyV1rONa1a6QNF/SNZLa1PsTu0T4OEZy/qMt99wT7rkHTjwRXn01lToVMv9u\n5ocWXccm6VGgc2YSYMAltWRvbl9dkn19Dbn1HWVmq2JAuwUYCVyeLfPw4cPp3r07AO3bt6dXr16U\nlZUBX/9n8POGnc+PO2bkS32K7lyCM8+k7Kij4JlnqFy8OL/q5+dFe15ZWcmECRMANvy+bIo0x9gW\nAGUxOHQBZpvZ7jXy9AUuM7PyeD4KMDMbm618Zp5YZjpwKbA08zMkVQD9zGxEdR4zmyOpNbDCzDrF\nPGVmdk4sc1O8xj016tkP+IWZDcrys/oYmys8V1wRtt964gnYcsu0a+NKUCGOsU0FhsfjYcCDteSZ\nC/SUtKOktkBFLFdX+alARZzp2APoCTwXuys/ltRHkoChNcoMi8cnALPi8Qygv6St4kSS/jGNGEyJ\n1zoG8H4bV1xGj4b99vMncLuCk2ZgG0sIGosIsx6vBJC0naSHYMN41/mESRuvESaFLKirvJm9DkwG\nXgemAedm3C6dB4wnzLSsMrPpMX08sI2kKuAiYFS81kfA7wgzI+cAv4mTSADukvQS8BKwNXV0Q7pk\nVXdduOarsy0l+NOfwqLtESN8jVsD+HczP/jOIzngXZHJqqys3NA/75qnQW356adh4+TjjoOLL85J\nvQqVfzeT5Vtq5TEPbK7grVgB++8Pl18Op56adm1ciWhqYPPd/Z1z9dtuu7DG7dBDw3q3Qw5Ju0bO\nZeULjF3B8XGM5DSqLb/zHZg0CSoq4LXXWqxOhcy/m/nBA5tzruEOOQSuuQaOOip0TzqXh3yMLQd8\njM0Vncsvh/vvh7//HbbYIu3auCLlk0fymAc2V3TM4Mwzw1O4H3gANvHhepe8Qlyg7VyT+DhGcprc\nlhLceGNYuH3BBb7GLfLvZn7wwOaca5o2beCvf4Wnn4b/+Z+0a+PcBt4VmQPeFemK2rJlYY3bNdeE\n7becS4ivY3POpWOHHeChh6B//7DG7cAD066RK3HeFekKjo9jJCexttxnH7jzTvjRjyA+5qYU+Xcz\nP3hgc84lY8AA+O//hoED4b330q6NK2ENGmOLD9PcmfAwzyozW9vSFSsmPsbmSsqvfw2PPgqzZsHm\nm6ddG1fAWmwdm6Ry4M/A24QnS+8AnGlmM5tS0VLkgc2VFDMYOhQ++yzMmmzdOu0auQLVkuvYxgGH\nm9kPzOxAwsM2r2vsBzmXFB/HSE6LtKUE48fDRx/BL36R/PXzmH8380NDAtunZrZhNDgef9ZyVXLO\nFby2beG++0KX5LhxadfGlZiGdEXeQOh+nEwYYzsBWA7MADCzqS1cx4LnXZGuZC1dGqb/X399eFCp\nc43QkmNsd9bxtpnZ0MZ+aKnxwOZK2gsvQHl52FPygAPSro0rIIkHNkn7mtncZtfMeWBLWGVlJWVl\nZWlXoyjkrC0feQROPx2efBJ23rnlPy8l/t1MVktMHrlV0p8ktWtGvbKS1EHSTEmLJM2QtFWWfOWS\nFkpaLGlkQ8pLGi2pStICSUdkpPeW9HK81riM9LaSJsUyz0jqlvHeI5I+krRRl6uk7pKejdf6iyTf\nxcW5bAYODI+68TVuLgfqCmy9gbeAeZJOaoHPHgU8Zma7ArOA0TUzSGoF/BEYAHwHOEnSbnWVl7QH\nMATYHRgI3CCpOuLfCJxhZrsAu0gaENPPAD40s50Js0CvyqjGVcCptdR/LHBNvNbqeA2XA/4XcXJy\n2pY/+QmcdBIMGgSff567z80h/27mh6yBzczWmdnVwDHATZJWS/ow3r18mMBnDwYmxuOJ8XNq6kNY\nEL7UzNYAk2K5usoPAiaZ2VozWwJUAX0kdQHaZXSv3pFRJvNaU4DDqitgZrOBT2up26HAvRmff2x9\nP7BzJe+3v4Vddw0Bbt26tGvjilSd0/0lDQMeBC4Fto2vbeK/zdXJzFYBmNlKoFMteboC72ScL4tp\nAJ2zlK9ZZnlM6xrL13atDWXMbB2wWlLHbBWXtDXwkZmtz7jW9ll/UpcoXyuUnJy3pQS33BLu2Irw\nOW7+3cwPWceFJD0JrAD6mdm7Tbm4pEeBzplJhCUDl9SSvbnf8CT/hzR6sLI+w4cPp3v37gC0b9+e\nXr16bei2qP7P4OcNO58/f35e1cfPG3n+9NNw0UWUXXwxjB1LZd+++VU/P0/tvLKykgkTJgBs+H3Z\nFHXNiiw3s+lNvnJ9HywtAMrMbFXsJpxtZrvXyNMXuMzMyuP5KMISg7HZymfmiWWmE+44l2Z+hqQK\nQtAeUZ3HzOZIag2sMLNOGfXoB/zCzAZlpL0HdDGz9bGel5rZwCw/q8+KdK6md98N0/8vvxxOrW0Y\n25W6xGdF1hbUJL3Q2A+ow1RgeDyu7vKsaS7QU9KOktoCFbFcXeWnAhVxpmMPoCfwXOyu/FhSnziZ\nZGiNMsPi8QmEySiZxH/exc2Oeeuqv3Mum+23h2nTwrZbjz2Wdm1cEWnsY2uS7KIbC/SXtIgwWeNK\nAEnbSXoINox3nQ/MBF4jTApZUFd5M3udsEvK68A04NyM26XzgPHAYsKklOrgPR7YRlIVcBFhxiWx\nPk8A9wCHSnpbUv/41ijg55IWAx3jNVwOVHdduOZLvS332CNslHzyyRC7mAtZ6u3pgMY/QfvhpD7Y\nzD4EDq8lfQVwdMb5dGDXhpaP740BxtSSPg/Yq5b0fxOWCNR2rYOzpL8F7Ffbe865Rjj4YLjhBjj6\naPjHP6AZYyvOQcO21BprZiPrS3PZ+Ribcw3whz/An/4ETz0FW2+ddm1cHmjJx9b0ryWt1kkSzjnX\nZBdcAIMHww9/CF98kXZtXAHLGtgknSPpFWC3uA1V9est4OXcVdG5jfk4RnLyri3HjIFvfxsqKmDt\n2rRr02h5154lqq47tsHx9SDww4zX98zM5+Y655LXqhXcdht8+SWMGFF0C7hdbtS1ju0E4L8J20Vd\nFbe0ck3gY2zONdInn8Ahh8CRR4ZtuFxJapHnsUnaAvg1UA7cCVRvIYWZXduEepYkD2zONcF774WH\nlP785+HuzZWclpo88hXwGbAp0K7Gy7lU+DhGcvK6LTt1ghkzws4k995bf/48kNftWULq2iuyHLiW\nsCtHbzMrzudMOOfy17e/DQ89BAMGQMeOoXvSuXrUNcb2JHCOmb2W2yoVH++KdK6ZKithyBCYPh16\n9067Ni5HWmSMzSXDA5tzCbjvPjjvPHjiCdh557Rr43KgJRdoO5dXfBwjOQXVlscdF2ZIHnFEeDJA\nHiqo9ixijd0r0jnn0nPmmfD++2HM7e9/D+NuztXgXZE54F2RziXIDP7rv+Dpp8Pjbr75zbRr5FqI\nj7HlMQ9sziXMDM44A5Ytg7/9DTbdNO0auRbgY2yuZPg4RnIKti0l+POfoV278PTtdevSrhFQwO1Z\nZDywOecK0yabwN13w0cfwTnn+L6SbgPviswB74p0rgV9+in07w/77w/XXBPu5lxR8K5I51xp2mIL\nmDYNZs2Cyy5LuzYuD3hgcwXHxzGSUzRt2aEDzJwJ99wDV1+dWjWKpj0LXGqBTVIHSTMlLZI0Q9JW\nWfKVS1ooabGkkQ0pL2m0pCpJCyQdkZHeOz4sdbGkcRnpbSVNimWekdQt471HJH0kaWqNet0u6Z+S\nXpT0gqS9k2ob51wTdOoUpv//6U9w001p18alKLUxNkljgQ/M7KoYsDqY2agaeVoBi4HDgHeBuUCF\nmS3MVl7SHsBdwL7ADsBjwM5mZpLmAOeb2VxJ04DrzGyGpBHAXmZ2rqQTgWPNrCLW4RBgc+BsMxuU\nUbfbgalmdn8DflYfY3MuV958E/r1gyuugKFD066Na4ZCHGMbTHiIKfHfY2rJ0weoMrOl8UGnk2K5\nusoPAiaZ2VozWwJUAX0kdQHamdncmO+OjDKZ15pCCKQAmNls4NMsP4N35TqXb3baCR59FEaNCl2T\nruSk+Yu5k5mtAjCzlUCnWvJ0Bd7JOF8W0wA6Zylfs8zymNY1lq/tWhvKmNk6YLWkhuzVc4Wk+ZKu\nkdSmAfmTV0tMAAAUVElEQVRdAnwcIzlF25a77x6eBHDhhXB/vZ0qiSna9iwwLbpXpKRHgc6ZSYAB\nl9SSvbl9dUn29TXk1neUma2KAe0WYCRwebbMw4cPp3v37gC0b9+eXr16UVZWBnz9n8HPG3Y+f/78\nvKqPn+fx+cMPU3nYYbBoEWWjRqVfHz+v87yyspIJEyYAbPh92RRpjrEtAMpicOgCzDaz3Wvk6Qtc\nZmbl8XwUYGY2Nlv5zDyxzHTgUmBp5mdIqgD6mdmI6jxmNkdSa2CFmXXKqEc/4BeZY2w16lnf+z7G\n5lxann0WBg2Cu+4K691cwSjEMbapwPB4PAx4sJY8c4GeknaU1BaoiOXqKj8VqIgzHXsAPYHnYnfl\nx5L6SBIwtEaZYfH4BGBWjXqIGndxMZgSr3UM8GrDfmznXE717Rue5XbKKWHWpCt6aQa2sUB/SYsI\nkzWuBJC0naSHYMN41/nATOA1wqSQBXWVN7PXgcnA68A04NyM26XzgPGEmZZVZjY9po8HtpFUBVwE\nbJidKekJ4B7gUElvS6r+k+8uSS8BLwFbU0c3pEtWddeFa76Sacsf/ADuvRdOOgkef7zFPqZk2jPP\npfY8NjP7EDi8lvQVwNEZ59OBXRtaPr43BhhTS/o8YK9a0v8NDMlyrYOzpB9WW7pzLk8ddBBMmQLH\nHw+TJ8Mhh6RdI9dCfK/IHPAxNufySGUlnHAC/PWvECcwuPxUiGNszjmXe2Vl4Y5tyJAW7ZZ06fHA\n5gqOj2Mkp2Tb8pBDQrdkRQXMmJHYZUu2PfOMBzbnXGk6+GB44AE47bTwdABXNHyMLQd8jM25PFa9\nzu3WW8O/Lm80dYwttVmRzjmXF/r2DXdsRx0FX3wBJ56Ydo1cM3lXpCs4Po6RHG/L6PvfDxsn/+xn\ncNttTb6Mt2d+8Ds255wD2HvvsBSgf3/49FP46U/TrpFrIh9jywEfY3OugCxdCocdBj/+MYweDWr0\nEI9LSFPH2Dyw5YAHNucKzIoV4c6tvBz+5388uKXEF2i7kuHjGMnxtsxiu+3giSfgqafCndvatQ0q\n5u2ZHzywOedcbTp2DE8DWLkSfvSjMGPSFQTviswB74p0roB99RUMGxa6Jx94ANq3T7tGJcO7Ip1z\nriW0bRseUrr33uEJAcuWpV0jVw8PbK7g+DhGcrwtG6hVK7juurD91gEHwGuv1ZrN2zM/+Do255xr\nCAl++UvYfns49NDw2JuDa31co0uZj7HlgI+xOVdkHn0UTjkFrr8+PCHAtQhfx5bHPLA5V4Reegl+\n+EM4+2z41a98rVsL8MkjrmT4OEZyvC2bYZ99wpMB7rsvrHX76itvzzyRWmCT1EHSTEmLJM2QtFWW\nfOWSFkpaLGlkQ8pLGi2pStICSUdkpPeW9HK81riM9LaSJsUyz0jqFtP3kfS0pFckzZc0JKNMd0nP\nxmv9RZKPVzpXarbfPizk/uijsEvJJ5+kXSNHundso4DHzGxXYBYwumYGSa2APwIDgO8AJ0nara7y\nkvYAhgC7AwOBG6QNfQQ3AmeY2S7ALpIGxPQzgA/NbGdgHHBVTP8cOM3M9orXGidpy/jeWOCaeK3V\n8RouB8rKytKuQtHwtkzAN78J994LvXtT9otfwIIFadeo5KUZ2AYDE+PxROCYWvL0AarMbKmZrQEm\nxXJ1lR8ETDKztWa2BKgC+kjqArQzs7kx3x0ZZTKvNQU4DMDMqszszXi8AngP2DbmOxS4N+Pzj23U\nT++cKx6tW8PVV4dNk/v18ydypyzNwNbJzFYBmNlKoFMteboC72ScL4tpAJ2zlK9ZZnlM6xrL13at\nDWXMbB2wWlLHzIpI6gO0MbM3JW0NfGRm6zOutX1DfmjXfD6OkRxvy2RV9ugRdif5yU/C5sk+aSwV\nLTouJOlRoHNmEmDAJbVkb+43IMlv0EazcCRtR7jDO62pFxw+fDjdu3cHoH379vTq1WtDN1D1Lxc/\nb9j5/Pnz86o+fu7nG51/9RWMG0fZ2LHw0ktUnnoqfOMb+VO/PD6vrKxkwoQJABt+XzZFatP9JS0A\nysxsVewmnG1mu9fI0xe4zMzK4/kowMxsbLbymXlimenApcDSzM+QVAH0M7MR1XnMbI6k1sAKM+sU\n87UDKoHLzez+jLq9B3Qxs/Wxnpea2cAsP6tP93eu1Hz+OZxzTlgWcN99sNNOadeo4BTidP+pwPB4\nPAx4sJY8c4GeknaU1BaoiOXqKj8VqIgzHXsAPYHnYnflx5L6xMkkQ2uUGRaPTyBMRkFSG+ABYGJm\nUItmx7x11d85V6o23xwmToSzzoL994eHHkq7RqXDzFJ5AR2Bx4BFwEygfUzfDngoI195zFMFjKqv\nfHxvNPAGsAA4IiP9e8Ar8VrXZaRvCkyO6c8C3WP6KcC/gReAF+O/e8f3egBzgMXAPYTxt2w/q7nk\nzJ49O+0qFA1vy2Rlbc+nnjLr2tXs1782W7s2p3UqZPF3Z6Pji+88kgPeFZmsysrKDf3zrnm8LZNV\nZ3uuXAknnxyO77orPMzU1cm31MpjHticcwCsWweXXw433xy6Kfv3T7tGec0DWx7zwOac28js2XDq\nqXD66XDZZbCJb1xUm0KcPOJck1RPD3bN522ZrAa35yGHwAsvwPPPww9+AG+80aL1KjUe2JxzLg2d\nO4cdSk4+OcyaHD/eF3QnxLsic8C7Ip1zdXr11fB8t5494aabYNtt6y9TArwr0jnnCtWee8Jzz8G3\nvw177w1TpqRdo4Lmgc0VHB8XSo63ZbKa1Z6bbhr2l7zvPrjkEjjxRHj//cTqVko8sDnnXD7Zf394\n8UXo1i3cvU2a5GNvjeRjbDngY2zOuSZ59tmwJVfXrnDDDdCjR9o1yikfY3POuWLTty/MmwdlZbDv\nvjB2LKxZk3at8p4HNldwfFwoOd6WyWqR9mzTBkaOhLlzobIS9tkHHn00+c8pIh7YnHOuEPToEda9\njRkTHodzzDHwz3+mXau85GNsOeBjbM65RH35JVx7LVxzTRiDGzUKttoq7VolzsfYnHOuVHzjG/Cr\nX8HLL8OqVbDzzvD738O//512zfKCBzZXcHxcKDnelsnKeXt27Qq33QazZoWNlXfdFe68MzxFoIR5\nYHPOuUK3554wdWoIajffDHvsEY7Xrk27ZqnwMbYc8DE251zOmIW7t9/8Bt59N+xicvLJYXZlgfHn\nseUxD2zOuVRUVsLvfgeLF8NPfxommhTQJBOfPOJKho8LJcfbMll5155lZfD44/DggzB/flgy8POf\nw5tvpl2zFpVaYJPUQdJMSYskzZBU658RksolLZS0WNLIhpSXNFpSlaQFko7ISO8t6eV4rXEZ6W0l\nTYplnpHULabvI+lpSa9Imi9pSEaZ2yX9U9KLkl6QtHfSbeScc4no3RvuuisEt9atw44m5eXwwANF\nOQ6XWlekpLHAB2Z2VQxYHcxsVI08rYDFwGHAu8BcoMLMFmYrL2kP4C5gX2AH4DFgZzMzSXOA881s\nrqRpwHVmNkPSCGAvMztX0onAsWZWIWlnYL2ZvSlpO2AesJuZ/Z+k24GpZnZ/A35W74p0zuWPL74I\nj8a56SZYuhSGDYPTToPddku7ZhspxK7IwcDEeDwROKaWPH2AKjNbamZrgEmxXF3lBwGTzGytmS0B\nqoA+kroA7cxsbsx3R0aZzGtNIQRSzKzKzN6MxyuA94DMJwB6V65zrvBstlkIZE89BY88Eta/HXoo\nfP/7MG4crFiRdg2bJc1fzJ3MbBWAma0EOtWSpyvwTsb5spgG0DlL+Zpllse0rrF8bdfaUMbM1gGr\nJXXMrIikPkCb6kAXXRG7KK+RVHhTjgpU3o1jFDBvy2QVZHvutRdcfTW8807YruuFF8JygQMPDM+H\ne+ONtGvYaJu05MUlPQp0zkwCDLikluzN7atLsq9vo1vf2A15B3BaRvIoM1sVA9otwEjg8mwXHD58\nON27dwegffv29OrVi7KyMuDr/wx+3rDz+fPn51V9/NzPi+a8f38q27SBU0+lbP16uP9+Kvv0gS23\npOzYY8P7Emy2WYt8fmVlJRMmTADY8PuyKdIcY1sAlMXg0AWYbWa718jTF7jMzMrj+SjAzGxstvKZ\neWKZ6cClwNLMz5BUAfQzsxHVecxsjqTWwAoz6xTztQMqgcuzjadJ6gf8wswGZXnfx9icc4Vp/Xp4\n/vnwRIFHHw2P0endO9zR7b9/eG2zTYt8dCGOsU0FhsfjYcCDteSZC/SUtKOktkBFLFdX+alARZzp\n2APoCTwXuys/ltRHkoChNcoMi8cnALMA4t3YA8DEmkEtBlPitY4BXm1sAzjnXN5r1Qr69IGLLw7r\n4lauDPtUtmkDf/gD7LRT2KtyyJCwZu6BB8JyghS39Urzjq0jMBn4FuFuaoiZrY7dfreY2dExXzlw\nHSEIjzezK+sqH98bDZwBrAEuNLOZMf17wATgG8A0M7swpm8K3Al8F/iAMPNyiaRTgNuA1/i6G3W4\nmb0s6XFgm5g+HzjHzD7P8rP6HVuCKisrN3RjuObxtkxWSbbnunWwcCG89FLYlPmVV8LrvffgW98K\na+d69AjHnTqF17bbwtZbw+abh9dmm4VXq43vtXznkTzmgS1ZJfnLo4V4WybL2zPDF1+EpQRvvRWe\nG7dsGbz//tevDz4IeT7/PPy76abw4YcbXcIDWx7zwOacc/UwA20cwwpxjM0555wL1Oj4lZUHNldw\nqqcHu+bztkyWt2d+8MDmnHOuqPgYWw74GJtzzjWej7E555xzeGBzBcjHMZLjbZksb8/84IHNOedc\nUfExthzwMTbnnGs8H2Nzzjnn8MDmCpCPYyTH2zJZ3p75wQObc865ouJjbDngY2zOOdd4PsbmnHPO\n4YHNFSAfx0iOt2WyvD3zgwc255xzRcXH2HLAx9icc67xfIzNOeecI8XAJqmDpJmSFkmaIWmrLPnK\nJS2UtFjSyIaUlzRaUpWkBZKOyEjvLenleK1xGeltJU2KZZ6R1C2md5M0T9ILkl6RdHZGme6Sno3X\n+oukTZJuI1c7H8dIjrdlsrw980Oad2yjgMfMbFdgFjC6ZgZJrYA/AgOA7wAnSdqtrvKS9gCGALsD\nA4EbpA2PZr0ROMPMdgF2kTQgpp8BfGhmOwPjgKti+gqgr5n1BvYDRknqEt8bC1wTr7U6XsPlwPz5\n89OuQtHwtkyWt2d+SDOwDQYmxuOJwDG15OkDVJnZUjNbA0yK5eoqPwiYZGZrzWwJUAX0iQGpnZnN\njfnuyCiTea0pwGEAZrYmfi7AZkBmX++hwL0Zn39sA39u10yrV69OuwpFw9syWd6e+SHNwNbJzFYB\nmNlKoFMteboC72ScL4tpAJ2zlK9ZZnlM6xrL13atDWXMbB2wWlJHAEk7SHoJWAqMNbOVkrYGPjKz\n9RnX2r4RP7tzzrkW0qLjQpIeBTpnJgEGXFJL9uZOG0xy2uGGOzMzWwbsE+/4HpQ0BVjPxndvLoeW\nLFmSdhWKhrdlsrw980OLBjYz65/tPUmrJHU2s1UxaLxXS7blQLeM8x1iGsDKLOWXA9+qpUy29Mwy\n70pqDWxpZh/W+FlWSnoVOMjM7pO0laRW8a4t81rZft663naNNHHixPozuQbxtkyWt2f60pzJNxUY\nTpiEMQx4sJY8c4GeknYkTOSoAE6qp/xU4C5Jvyd0MfYEnjMzk/SxpD7xukOB6zPKDAPmACcQJqMg\nqSvwgZl9KakD8APg2lhmdsx7Tx31B2jSOgznnHNNk9oC7TiGNZlwp7QUGGJmqyVtB9xiZkfHfOXA\ndYTxwPFmdmVd5eN7owmzFNcAF5rZzJj+PWAC8A1gmpldGNM3Be4Evgt8AFSY2RJJhwPX8HXX4x/M\nbHws04MwmaUD8CJwasZEE+eccynxnUecc84VFd95JCHZFpLXyHN9XAQ+X1KvXNexkNTXnpL6SVod\nF8+/IKm2CUkOkDQ+jmm/XEce/242UH3t6d/NhouzzmdJei1ugvHTLPka9/00M38180X4A+ENYEeg\nDTAf2K1GnoHAw/F4P+DZtOudr68Gtmc/YGradS2EF2FsuBfwcpb3/buZbHv6d7PhbdkF6BWPtwAW\nJfG70+/YklHXQvJqgwmLwjGzOcBWkjrjatOQ9gRfctEgZvYP4KM6svh3sxEa0J7g380GMbOVZjY/\nHn8KLODr9cXVGv399MCWjLoWkmfLs7yWPC5oSHsC7B+7Jh6OW6m5pvHvZvL8u9lIkroT7oTn1Hir\n0d9P37jXFap5QDcz+1zSQOABYJeU6+Qc+Hez0SRtQdjO8MJ459YsfseWjLoWkmfmybZA3G2s3vY0\ns0/N7PN4/AjQpnobNNdo/t1MkH83Gyc+GWUKcKeZ1bYeuNHfTw9sydiwkFxSW8JC8qk18kwlLApH\nUl9gtcW9Lt1/qLc9M/vY46J7WY3dYtxGRPZxH/9uNl7W9vTvZqPdBrxuZtdleb/R30/vikyAma2T\ndD4wk68Xki+Iz28zM/uzmU2TdKSkN4DPgNPTrHM+a0h7AsdLGkFYhP8FcGJ6Nc5vku4GyoCtJb0N\nXAq0xb+bTVJfe+LfzQaTdCBwCvCKpBcJe/7+ijAjusnfT1+g7Zxzrqh4V6Rzzrmi4oHNOedcUfHA\n5pxzrqh4YHPOOVdUPLA555wrKh7YnHPOFRUPbM6VmPiokH9Kah/PO8TzbvWVda4QeGBzrsSY2TLg\nBmBsTLoSuMnM3k6vVs4lxxdoO1eC4v58zwO3Az8hPBNrXbq1ci4ZvqWWcyXIzNZK+iUwHTjcg5or\nJt4V6VzpOhJ4F9gr7Yo4lyQPbM6VIEm9gMOAvsDP/YnZrph4YHOuNN1AeKjjMuAq4JqU6+NcYjyw\nOVdiJJ0JLDWzWTHpRmA3SQelWC3nEuOzIp1zzhUVv2NzzjlXVDywOeecKyoe2JxzzhUVD2zOOeeK\nigc255xzRcUDm3POuaLigc0551xR8cDmnHOuqPx/5O5CRIw6MnkAAAAASUVORK5CYII=\n",
      "text/plain": [
       "<matplotlib.figure.Figure at 0xdc10cdbf98>"
      ]
     },
     "metadata": {},
     "output_type": "display_data"
    }
   ],
   "source": [
    "h=0.025;                    #sravnenie s tochnim resheniem.\n",
    "k=2/h;m=[];x=[]\n",
    "for i in range(0,int(k)):\n",
    " m.append(tr(i*h)-B[0][i])  \n",
    " x.append(i*h)\n",
    "plt.xlabel(\"X\")\n",
    "plt.ylabel(\"Yt-Yp\")\n",
    "plt.plot(x,m,'r')\n",
    "plt.grid(True)\n",
    "plt.show()"
   ]
  },
  {
   "cell_type": "code",
   "execution_count": 6,
   "metadata": {
    "collapsed": false
   },
   "outputs": [
    {
     "name": "stdout",
     "output_type": "stream",
     "text": [
      "81 0.025\n"
     ]
    }
   ],
   "source": [
    "n=250                             #Method Runge-Kutti.\n",
    "A1=np.zeros([2,n])               \n",
    "B1=np.zeros([2,n])\n",
    "A1[0][0]=1; \n",
    "A1[1][0]=0\n",
    "B1[0][0]=1\n",
    "B1[1][0]=0\n",
    "l1=[];\n",
    "s1=[n]\n",
    "a1=[n];\n",
    "k1=np.zeros([2,1])\n",
    "k2=np.zeros([2,1])\n",
    "k3=np.zeros([2,1])\n",
    "k4=np.zeros([2,1])\n",
    "y0=np.array([1,0]); \n",
    "def f(x1,y1,y2):\n",
    " return np.array([y2,-y2-2*y1+cos(x1)*exp(-2*x1)])\n",
    "x0=0;\n",
    "z=1;\n",
    "y10=1;\n",
    "y20=0;\n",
    "h=0.05;\n",
    "e=0.01; \n",
    "ee=1;                 \n",
    "\n",
    "\n",
    "q=2/h;\n",
    "for i in range(1,int(q+1)):\n",
    " k1= f(x0,y10,y20).reshape(2,1); \n",
    " k2= f(x0+h/2,y10 + (h/2)*k1[0], y20 + (h/2)*k1[1]).reshape(2,1)\n",
    " k3= f(x0+h/2,y10 + (h/2)*k2[0], y20 + (h/2)*k2[1]).reshape(2,1)\n",
    " k4= f(x0+h,y10 + h*k3[0], y20 + h*k3[1]).reshape(2,1)   \n",
    " y=y0.reshape(2,1)+(h/6)*(k1+2*k2+2*k3+k4);\n",
    " A1[0][i]=y[0];  \n",
    " A1[1][i]=y[1];\n",
    " y0=y.reshape(1,2); \n",
    " a1.append(y[0]);\n",
    " x0=x0+h; y10=y[0]; y20=y[1];\n",
    "x0=0; y10=1; y20=0; \n",
    "while  ee>e:\n",
    " h=h/2; x0=0; q=2/h; y10=1; y20=0; \n",
    " y0=np.array([1,0]);\n",
    " for j in range(1,int(q+1)):\n",
    "  k1= f(x0,y10,y20).reshape(2,1)\n",
    "  k2= f(x0+h/2,y10 + (h/2)*k1[0], y20 + (h/2)*k1[1]).reshape(2,1)\n",
    "  k3= f(x0+h/2,y10 + (h/2)*k2[0], y20 + (h/2)*k2[1]).reshape(2,1)\n",
    "  k4= f(x0+h,y10 + h*k3[0], y20 + h*k3[1]).reshape(2,1)\n",
    "  y=y0.reshape(2,1)+(h/6)*(k1+2*k2+2*k3+k4)\n",
    "  B1[0][j]=y[0];\n",
    "  B1[1][j]=y[1];\n",
    "  s1.append(y[0])\n",
    "  y0=y.reshape(1,2); z=z+1;\n",
    "  x0=x0+h;y10=y[0];y20=y[1];\n",
    " for k in range(1,int((q+1)/2)):\n",
    "  l1.append(abs((a1[k]-B1[0][2*k])/a1[k]))\n",
    " ee= np.min(l1)\n",
    " A1=B1\n",
    " a1=s1\n",
    "print(z,h)\n"
   ]
  },
  {
   "cell_type": "code",
   "execution_count": 7,
   "metadata": {
    "collapsed": false
   },
   "outputs": [
    {
     "data": {
      "image/png": "iVBORw0KGgoAAAANSUhEUgAAAYYAAAEVCAYAAADkckIIAAAABHNCSVQICAgIfAhkiAAAAAlwSFlz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\n",
      "text/plain": [
       "<matplotlib.figure.Figure at 0xdc110097f0>"
      ]
     },
     "metadata": {},
     "output_type": "display_data"
    }
   ],
   "source": [
    "h=0.025;                  #sravnenie s tochnim resheniem po methody Runge-Kutti.\n",
    "k=2/h;\n",
    "m1=[];x1=[]\n",
    "for i in range(0,int(k)):\n",
    " m1.append(tr(i*h)-B1[0][i])  \n",
    " x1.append(i*h)\n",
    "plt.xlabel(\"X\")\n",
    "plt.ylabel(\"Yt-Yp\")\n",
    "plt.plot(x1,m1,'r')\n",
    "plt.grid(True)\n",
    "plt.show()"
   ]
  }
 ],
 "metadata": {
  "anaconda-cloud": {},
  "kernelspec": {
   "display_name": "Python [Root]",
   "language": "python",
   "name": "Python [Root]"
  },
  "language_info": {
   "codemirror_mode": {
    "name": "ipython",
    "version": 3
   },
   "file_extension": ".py",
   "mimetype": "text/x-python",
   "name": "python",
   "nbconvert_exporter": "python",
   "pygments_lexer": "ipython3",
   "version": "3.5.2"
  }
 },
 "nbformat": 4,
 "nbformat_minor": 0
}
